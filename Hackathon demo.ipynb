{
 "cells": [
  {
   "cell_type": "code",
   "execution_count": 2,
   "metadata": {},
   "outputs": [],
   "source": [
    "import hackathon_demo as trainingboard\n",
    "trainingboard.init({'sm_job_arn': \"arn:aws:sagemaker:us-east-1:578276202366:training-job/armand-vgg-example-2019-06-25-19-53-40-033\" })"
   ]
  },
  {
   "cell_type": "code",
   "execution_count": 3,
   "metadata": {},
   "outputs": [
    {
     "data": {
      "application/vnd.holoviews_exec.v0+json": "",
      "text/html": [
       "<div id='1003' style='display: table; margin: 0 auto;'>\n",
       "    <div id=\"fig_1003\">\n",
       "      \n",
       "\n",
       "\n",
       "\n",
       "\n",
       "\n",
       "  <div class=\"bk-root\" id=\"8420d7a5-b164-47ad-9a38-5ddc220217b8\" data-root-id=\"1003\"></div>\n",
       "\n",
       "    </div>\n",
       "    </div>\n",
       "<script type=\"application/javascript\">(function(root) {\n",
       "  function embed_document(root) {\n",
       "    \n",
       "  var docs_json = {\"80ef9bed-3a5c-45c4-a6e8-cb528aa2a1df\":{\"roots\":{\"references\":[{\"attributes\":{\"below\":[{\"id\":\"1012\",\"type\":\"DatetimeAxis\"}],\"center\":[{\"id\":\"1016\",\"type\":\"Grid\"},{\"id\":\"1021\",\"type\":\"Grid\"}],\"left\":[{\"id\":\"1017\",\"type\":\"LinearAxis\"}],\"margin\":null,\"min_border_bottom\":10,\"min_border_left\":10,\"min_border_right\":10,\"min_border_top\":10,\"plot_height\":300,\"plot_width\":800,\"renderers\":[{\"id\":\"1039\",\"type\":\"GlyphRenderer\"}],\"sizing_mode\":\"fixed\",\"title\":{\"id\":\"1004\",\"type\":\"Title\"},\"toolbar\":{\"id\":\"1027\",\"type\":\"Toolbar\"},\"x_range\":{\"id\":\"1001\",\"type\":\"Range1d\"},\"x_scale\":{\"id\":\"1008\",\"type\":\"LinearScale\"},\"y_range\":{\"id\":\"1002\",\"type\":\"Range1d\"},\"y_scale\":{\"id\":\"1010\",\"type\":\"LinearScale\"}},\"id\":\"1003\",\"subtype\":\"Figure\",\"type\":\"Plot\"},{\"attributes\":{\"axis_label\":\"download_rate\",\"bounds\":\"auto\",\"formatter\":{\"id\":\"1043\",\"type\":\"BasicTickFormatter\"},\"major_label_orientation\":\"horizontal\",\"ticker\":{\"id\":\"1018\",\"type\":\"BasicTicker\"}},\"id\":\"1017\",\"type\":\"LinearAxis\"},{\"attributes\":{\"source\":{\"id\":\"1033\",\"type\":\"ColumnDataSource\"}},\"id\":\"1040\",\"type\":\"CDSView\"},{\"attributes\":{},\"id\":\"1018\",\"type\":\"BasicTicker\"},{\"attributes\":{\"data_source\":{\"id\":\"1033\",\"type\":\"ColumnDataSource\"},\"glyph\":{\"id\":\"1036\",\"type\":\"Line\"},\"hover_glyph\":null,\"muted_glyph\":{\"id\":\"1038\",\"type\":\"Line\"},\"nonselection_glyph\":{\"id\":\"1037\",\"type\":\"Line\"},\"selection_glyph\":null,\"view\":{\"id\":\"1040\",\"type\":\"CDSView\"}},\"id\":\"1039\",\"type\":\"GlyphRenderer\"},{\"attributes\":{\"months\":[0,1,2,3,4,5,6,7,8,9,10,11]},\"id\":\"1057\",\"type\":\"MonthsTicker\"},{\"attributes\":{\"line_alpha\":0.2,\"line_color\":\"#30a2da\",\"line_width\":2,\"x\":{\"field\":\"timestamps\"},\"y\":{\"field\":\"download_rate\"}},\"id\":\"1038\",\"type\":\"Line\"},{\"attributes\":{\"months\":[0,2,4,6,8,10]},\"id\":\"1058\",\"type\":\"MonthsTicker\"},{\"attributes\":{\"days\":[1,15]},\"id\":\"1056\",\"type\":\"DaysTicker\"},{\"attributes\":{\"mantissas\":[1,2,5],\"max_interval\":500.0,\"num_minor_ticks\":0},\"id\":\"1050\",\"type\":\"AdaptiveTicker\"},{\"attributes\":{\"line_alpha\":0.1,\"line_color\":\"#30a2da\",\"line_width\":2,\"x\":{\"field\":\"timestamps\"},\"y\":{\"field\":\"download_rate\"}},\"id\":\"1037\",\"type\":\"Line\"},{\"attributes\":{\"days\":[1,4,7,10,13,16,19,22,25,28]},\"id\":\"1054\",\"type\":\"DaysTicker\"},{\"attributes\":{\"axis_label\":\"timestamps\",\"bounds\":\"auto\",\"formatter\":{\"id\":\"1041\",\"type\":\"DatetimeTickFormatter\"},\"major_label_orientation\":\"horizontal\",\"ticker\":{\"id\":\"1013\",\"type\":\"DatetimeTicker\"}},\"id\":\"1012\",\"type\":\"DatetimeAxis\"},{\"attributes\":{\"days\":[1,8,15,22]},\"id\":\"1055\",\"type\":\"DaysTicker\"},{\"attributes\":{\"num_minor_ticks\":5,\"tickers\":[{\"id\":\"1050\",\"type\":\"AdaptiveTicker\"},{\"id\":\"1051\",\"type\":\"AdaptiveTicker\"},{\"id\":\"1052\",\"type\":\"AdaptiveTicker\"},{\"id\":\"1053\",\"type\":\"DaysTicker\"},{\"id\":\"1054\",\"type\":\"DaysTicker\"},{\"id\":\"1055\",\"type\":\"DaysTicker\"},{\"id\":\"1056\",\"type\":\"DaysTicker\"},{\"id\":\"1057\",\"type\":\"MonthsTicker\"},{\"id\":\"1058\",\"type\":\"MonthsTicker\"},{\"id\":\"1059\",\"type\":\"MonthsTicker\"},{\"id\":\"1060\",\"type\":\"MonthsTicker\"},{\"id\":\"1061\",\"type\":\"YearsTicker\"}]},\"id\":\"1013\",\"type\":\"DatetimeTicker\"},{\"attributes\":{},\"id\":\"1041\",\"type\":\"DatetimeTickFormatter\"},{\"attributes\":{\"callback\":null,\"end\":1561502260364.75,\"reset_end\":1561502260364.75,\"reset_start\":1561502255097.25,\"start\":1561502255097.25,\"tags\":[[[\"timestamps\",\"timestamps\",null]]]},\"id\":\"1001\",\"type\":\"Range1d\"},{\"attributes\":{\"base\":60,\"mantissas\":[1,2,5,10,15,20,30],\"max_interval\":1800000.0,\"min_interval\":1000.0,\"num_minor_ticks\":0},\"id\":\"1051\",\"type\":\"AdaptiveTicker\"},{\"attributes\":{\"text\":\"Network utilization (algo1)\",\"text_color\":{\"value\":\"black\"},\"text_font_size\":{\"value\":\"12pt\"}},\"id\":\"1004\",\"type\":\"Title\"},{\"attributes\":{\"line_color\":\"#30a2da\",\"line_width\":2,\"x\":{\"field\":\"timestamps\"},\"y\":{\"field\":\"download_rate\"}},\"id\":\"1036\",\"type\":\"Line\"},{\"attributes\":{},\"id\":\"1008\",\"type\":\"LinearScale\"},{\"attributes\":{},\"id\":\"1010\",\"type\":\"LinearScale\"},{\"attributes\":{\"months\":[0,4,8]},\"id\":\"1059\",\"type\":\"MonthsTicker\"},{\"attributes\":{},\"id\":\"1043\",\"type\":\"BasicTickFormatter\"},{\"attributes\":{},\"id\":\"1026\",\"type\":\"ResetTool\"},{\"attributes\":{\"months\":[0,6]},\"id\":\"1060\",\"type\":\"MonthsTicker\"},{\"attributes\":{},\"id\":\"1061\",\"type\":\"YearsTicker\"},{\"attributes\":{\"callback\":null,\"data\":{\"download_rate\":{\"__ndarray__\":\"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\",\"dtype\":\"float64\",\"shape\":[490]},\"timestamps\":{\"__ndarray__\":\"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\",\"dtype\":\"float64\",\"shape\":[490]}},\"selected\":{\"id\":\"1034\",\"type\":\"Selection\"},\"selection_policy\":{\"id\":\"1063\",\"type\":\"UnionRenderers\"}},\"id\":\"1033\",\"type\":\"ColumnDataSource\"},{\"attributes\":{},\"id\":\"1063\",\"type\":\"UnionRenderers\"},{\"attributes\":{},\"id\":\"1024\",\"type\":\"WheelZoomTool\"},{\"attributes\":{\"days\":[1,2,3,4,5,6,7,8,9,10,11,12,13,14,15,16,17,18,19,20,21,22,23,24,25,26,27,28,29,30,31]},\"id\":\"1053\",\"type\":\"DaysTicker\"},{\"attributes\":{\"overlay\":{\"id\":\"1064\",\"type\":\"BoxAnnotation\"}},\"id\":\"1025\",\"type\":\"BoxZoomTool\"},{\"attributes\":{\"bottom_units\":\"screen\",\"fill_alpha\":{\"value\":0.5},\"fill_color\":{\"value\":\"lightgrey\"},\"left_units\":\"screen\",\"level\":\"overlay\",\"line_alpha\":{\"value\":1.0},\"line_color\":{\"value\":\"black\"},\"line_dash\":[4,4],\"line_width\":{\"value\":2},\"render_mode\":\"css\",\"right_units\":\"screen\",\"top_units\":\"screen\"},\"id\":\"1064\",\"type\":\"BoxAnnotation\"},{\"attributes\":{\"active_drag\":\"auto\",\"active_inspect\":\"auto\",\"active_multi\":null,\"active_scroll\":\"auto\",\"active_tap\":\"auto\",\"tools\":[{\"id\":\"1022\",\"type\":\"SaveTool\"},{\"id\":\"1023\",\"type\":\"PanTool\"},{\"id\":\"1024\",\"type\":\"WheelZoomTool\"},{\"id\":\"1025\",\"type\":\"BoxZoomTool\"},{\"id\":\"1026\",\"type\":\"ResetTool\"}]},\"id\":\"1027\",\"type\":\"Toolbar\"},{\"attributes\":{},\"id\":\"1034\",\"type\":\"Selection\"},{\"attributes\":{},\"id\":\"1023\",\"type\":\"PanTool\"},{\"attributes\":{\"callback\":null,\"end\":25.94714120030403,\"reset_end\":25.94714120030403,\"reset_start\":-2.3588310182094574,\"start\":-2.3588310182094574,\"tags\":[[[\"download_rate\",\"download_rate\",null]]]},\"id\":\"1002\",\"type\":\"Range1d\"},{\"attributes\":{\"base\":24,\"mantissas\":[1,2,4,6,8,12],\"max_interval\":43200000.0,\"min_interval\":3600000.0,\"num_minor_ticks\":0},\"id\":\"1052\",\"type\":\"AdaptiveTicker\"},{\"attributes\":{\"dimension\":1,\"grid_line_color\":null,\"ticker\":{\"id\":\"1018\",\"type\":\"BasicTicker\"}},\"id\":\"1021\",\"type\":\"Grid\"},{\"attributes\":{},\"id\":\"1022\",\"type\":\"SaveTool\"},{\"attributes\":{\"grid_line_color\":null,\"ticker\":{\"id\":\"1013\",\"type\":\"DatetimeTicker\"}},\"id\":\"1016\",\"type\":\"Grid\"}],\"root_ids\":[\"1003\"]},\"title\":\"Bokeh Application\",\"version\":\"1.2.0\"}};\n",
       "  var render_items = [{\"docid\":\"80ef9bed-3a5c-45c4-a6e8-cb528aa2a1df\",\"roots\":{\"1003\":\"8420d7a5-b164-47ad-9a38-5ddc220217b8\"}}];\n",
       "  root.Bokeh.embed.embed_items_notebook(docs_json, render_items);\n",
       "\n",
       "  }\n",
       "  if (root.Bokeh !== undefined) {\n",
       "    embed_document(root);\n",
       "  } else {\n",
       "    var attempts = 0;\n",
       "    var timer = setInterval(function(root) {\n",
       "      if (root.Bokeh !== undefined) {\n",
       "        embed_document(root);\n",
       "        clearInterval(timer);\n",
       "      }\n",
       "      attempts++;\n",
       "      if (attempts > 100) {\n",
       "        console.log(\"Bokeh: ERROR: Unable to run BokehJS code because BokehJS library is missing\");\n",
       "        clearInterval(timer);\n",
       "      }\n",
       "    }, 10, root)\n",
       "  }\n",
       "})(window);\n",
       "\n",
       "    function msg_handler(msg) {\n",
       "      var metadata = msg.metadata;\n",
       "      var buffers = msg.buffers;\n",
       "      var msg = msg.content.data;\n",
       "      if ((metadata.msg_type == \"Ready\")) {\n",
       "        if (metadata.content) {\n",
       "          console.log(\"Python callback returned following output:\", metadata.content);\n",
       "        }\n",
       "      } else if (metadata.msg_type == \"Error\") {\n",
       "        console.log(\"Python failed with the following traceback:\", metadata.traceback)\n",
       "      } else {\n",
       "        \n",
       "var plot_id = \"1003\";\n",
       "if (plot_id in window.PyViz.plot_index) {\n",
       "  var plot = window.PyViz.plot_index[plot_id];\n",
       "} else {\n",
       "  var plot = Bokeh.index[plot_id];\n",
       "}\n",
       "\n",
       "if (plot_id in window.PyViz.receivers) {\n",
       "  var receiver = window.PyViz.receivers[plot_id];\n",
       "} else if (Bokeh.protocol === undefined) {\n",
       "  return;\n",
       "} else {\n",
       "  var receiver = new Bokeh.protocol.Receiver();\n",
       "  window.PyViz.receivers[plot_id] = receiver;\n",
       "}\n",
       "\n",
       "if ((buffers != undefined) && (buffers.length > 0)) {\n",
       "  receiver.consume(buffers[0].buffer)\n",
       "} else {\n",
       "  receiver.consume(msg)\n",
       "}\n",
       "\n",
       "const comm_msg = receiver.message;\n",
       "if ((comm_msg != null) && (Object.keys(comm_msg.content).length > 0)) {\n",
       "  plot.model.document.apply_json_patch(comm_msg.content, comm_msg.buffers)\n",
       "}\n",
       "\n",
       "      }\n",
       "    }\n",
       "    if ((window.PyViz == undefined) || (!window.PyViz.comm_manager)) {\n",
       "      console.log(\"Could not find comm manager\")\n",
       "    } else {\n",
       "      window.PyViz.comm_manager.register_target('1003', '6b5ad49b91bd4a2c9b1f0c411d9830eb', msg_handler);\n",
       "    }\n",
       "    </script>"
      ],
      "text/plain": [
       ":DynamicMap   []\n",
       "   :Curve   [timestamps]   (download_rate)"
      ]
     },
     "execution_count": 3,
     "metadata": {
      "application/vnd.holoviews_exec.v0+json": {
       "id": "1003"
      }
     },
     "output_type": "execute_result"
    }
   ],
   "source": [
    "network_line_graph, network_graph_stopper = trainingboard.graph('network-line')\n",
    "network_line_graph"
   ]
  },
  {
   "cell_type": "code",
   "execution_count": 4,
   "metadata": {},
   "outputs": [],
   "source": [
    "network_graph_stopper.stop()"
   ]
  },
  {
   "cell_type": "code",
   "execution_count": 7,
   "metadata": {
    "scrolled": true
   },
   "outputs": [
    {
     "data": {
      "application/vnd.holoviews_exec.v0+json": "",
      "text/html": [
       "<div id='3432' style='display: table; margin: 0 auto;'>\n",
       "    <div id=\"fig_3432\">\n",
       "      \n",
       "\n",
       "\n",
       "\n",
       "\n",
       "\n",
       "  <div class=\"bk-root\" id=\"fed60d44-6ab0-4889-b5fe-3337137efb80\" data-root-id=\"3432\"></div>\n",
       "\n",
       "    </div>\n",
       "    </div>\n",
       "<script type=\"application/javascript\">(function(root) {\n",
       "  function embed_document(root) {\n",
       "    \n",
       "  var docs_json = {\"784b847e-b2e8-40c6-ae39-644fa73e6adc\":{\"roots\":{\"references\":[{\"attributes\":{\"children\":[{\"id\":\"3431\",\"type\":\"ToolbarBox\"},{\"id\":\"3429\",\"type\":\"GridBox\"}]},\"id\":\"3432\",\"type\":\"Column\"},{\"attributes\":{\"bar_line_color\":{\"value\":\"black\"},\"color_mapper\":{\"id\":\"3349\",\"type\":\"LinearColorMapper\"},\"formatter\":{\"id\":\"3414\",\"type\":\"BasicTickFormatter\"},\"label_standoff\":8,\"location\":[0,0],\"major_tick_line_color\":{\"value\":\"black\"},\"ticker\":{\"id\":\"3357\",\"type\":\"BasicTicker\"}},\"id\":\"3358\",\"type\":\"ColorBar\"},{\"attributes\":{},\"id\":\"3339\",\"type\":\"PanTool\"},{\"attributes\":{},\"id\":\"3357\",\"type\":\"BasicTicker\"},{\"attributes\":{\"callback\":null,\"data\":{\"x\":[\"0\",\"0\",\"1\",\"1\",\"2\",\"2\",\"3\",\"3\"],\"y\":[\"0\",\"1\",\"0\",\"1\",\"0\",\"1\",\"0\",\"1\"],\"zvalues\":{\"__ndarray__\":\"t23btm3bWEDbtm3btu1YQNu2bdu27VhAAAAAAADwWEDbtm3btu1YQAAAAAAA8FhAbtu2bdv2WEAAAAAAAAAAAA==\",\"dtype\":\"float64\",\"shape\":[8]}},\"selected\":{\"id\":\"3396\",\"type\":\"Selection\"},\"selection_policy\":{\"id\":\"3426\",\"type\":\"UnionRenderers\"}},\"id\":\"3395\",\"type\":\"ColumnDataSource\"},{\"attributes\":{\"grid_line_color\":null,\"ticker\":{\"id\":\"3331\",\"type\":\"CategoricalTicker\"}},\"id\":\"3333\",\"type\":\"Grid\"},{\"attributes\":{\"active_drag\":\"auto\",\"active_inspect\":\"auto\",\"active_multi\":null,\"active_scroll\":\"auto\",\"active_tap\":\"auto\",\"tools\":[{\"id\":\"3338\",\"type\":\"SaveTool\"},{\"id\":\"3339\",\"type\":\"PanTool\"},{\"id\":\"3340\",\"type\":\"WheelZoomTool\"},{\"id\":\"3341\",\"type\":\"BoxZoomTool\"},{\"id\":\"3342\",\"type\":\"ResetTool\"}]},\"id\":\"3343\",\"type\":\"Toolbar\"},{\"attributes\":{\"fill_alpha\":{\"value\":0.1},\"fill_color\":{\"field\":\"zvalues\",\"transform\":{\"id\":\"3349\",\"type\":\"LinearColorMapper\"}},\"height\":{\"units\":\"data\",\"value\":1},\"line_alpha\":{\"value\":0},\"line_color\":{\"value\":\"#1f77b4\"},\"width\":{\"units\":\"data\",\"value\":1},\"x\":{\"field\":\"x\"},\"y\":{\"field\":\"y\"}},\"id\":\"3354\",\"type\":\"Rect\"},{\"attributes\":{},\"id\":\"3384\",\"type\":\"PanTool\"},{\"attributes\":{},\"id\":\"3326\",\"type\":\"CategoricalScale\"},{\"attributes\":{},\"id\":\"3416\",\"type\":\"UnionRenderers\"},{\"attributes\":{},\"id\":\"3380\",\"type\":\"CategoricalTicker\"},{\"attributes\":{\"fill_color\":{\"field\":\"zvalues\",\"transform\":{\"id\":\"3349\",\"type\":\"LinearColorMapper\"}},\"height\":{\"units\":\"data\",\"value\":1},\"line_alpha\":{\"value\":0},\"line_color\":{\"value\":\"#1f77b4\"},\"width\":{\"units\":\"data\",\"value\":1},\"x\":{\"field\":\"x\"},\"y\":{\"field\":\"y\"}},\"id\":\"3353\",\"type\":\"Rect\"},{\"attributes\":{\"bottom_units\":\"screen\",\"fill_alpha\":{\"value\":0.5},\"fill_color\":{\"value\":\"lightgrey\"},\"left_units\":\"screen\",\"level\":\"overlay\",\"line_alpha\":{\"value\":1.0},\"line_color\":{\"value\":\"black\"},\"line_dash\":[4,4],\"line_width\":{\"value\":2},\"render_mode\":\"css\",\"right_units\":\"screen\",\"top_units\":\"screen\"},\"id\":\"3417\",\"type\":\"BoxAnnotation\"},{\"attributes\":{\"toolbar\":{\"id\":\"3430\",\"type\":\"ProxyToolbar\"},\"toolbar_location\":\"above\"},\"id\":\"3431\",\"type\":\"ToolbarBox\"},{\"attributes\":{\"fill_alpha\":{\"value\":0.1},\"fill_color\":{\"field\":\"zvalues\",\"transform\":{\"id\":\"3394\",\"type\":\"LinearColorMapper\"}},\"height\":{\"units\":\"data\",\"value\":1},\"line_alpha\":{\"value\":0},\"line_color\":{\"value\":\"#1f77b4\"},\"width\":{\"units\":\"data\",\"value\":1},\"x\":{\"field\":\"x\"},\"y\":{\"field\":\"y\"}},\"id\":\"3399\",\"type\":\"Rect\"},{\"attributes\":{\"below\":[{\"id\":\"3330\",\"type\":\"CategoricalAxis\"}],\"center\":[{\"id\":\"3333\",\"type\":\"Grid\"},{\"id\":\"3337\",\"type\":\"Grid\"}],\"left\":[{\"id\":\"3334\",\"type\":\"CategoricalAxis\"}],\"margin\":null,\"min_border_bottom\":10,\"min_border_left\":10,\"min_border_right\":10,\"min_border_top\":10,\"plot_height\":300,\"plot_width\":400,\"renderers\":[{\"id\":\"3355\",\"type\":\"GlyphRenderer\"}],\"right\":[{\"id\":\"3358\",\"type\":\"ColorBar\"}],\"sizing_mode\":\"fixed\",\"title\":{\"id\":\"3322\",\"type\":\"Title\"},\"toolbar\":{\"id\":\"3343\",\"type\":\"Toolbar\"},\"toolbar_location\":null,\"x_range\":{\"id\":\"3319\",\"type\":\"FactorRange\"},\"x_scale\":{\"id\":\"3326\",\"type\":\"CategoricalScale\"},\"y_range\":{\"id\":\"3320\",\"type\":\"FactorRange\"},\"y_scale\":{\"id\":\"3328\",\"type\":\"CategoricalScale\"}},\"id\":\"3321\",\"subtype\":\"Figure\",\"type\":\"Plot\"},{\"attributes\":{\"data_source\":{\"id\":\"3395\",\"type\":\"ColumnDataSource\"},\"glyph\":{\"id\":\"3398\",\"type\":\"Rect\"},\"hover_glyph\":null,\"muted_glyph\":null,\"nonselection_glyph\":{\"id\":\"3399\",\"type\":\"Rect\"},\"selection_glyph\":null,\"view\":{\"id\":\"3401\",\"type\":\"CDSView\"}},\"id\":\"3400\",\"type\":\"GlyphRenderer\"},{\"attributes\":{\"text\":\"GPU Heatmap (algo2)\",\"text_color\":{\"value\":\"black\"},\"text_font_size\":{\"value\":\"12pt\"}},\"id\":\"3367\",\"type\":\"Title\"},{\"attributes\":{\"callback\":null,\"factors\":[\"0\",\"1\"],\"tags\":[[[\"y\",\"y\",null]]]},\"id\":\"3365\",\"type\":\"FactorRange\"},{\"attributes\":{\"overlay\":{\"id\":\"3427\",\"type\":\"BoxAnnotation\"}},\"id\":\"3386\",\"type\":\"BoxZoomTool\"},{\"attributes\":{},\"id\":\"3405\",\"type\":\"CategoricalTickFormatter\"},{\"attributes\":{\"callback\":null,\"factors\":[\"0\",\"1\",\"2\",\"3\"],\"tags\":[[[\"x\",\"x\",null]]]},\"id\":\"3319\",\"type\":\"FactorRange\"},{\"attributes\":{\"fill_color\":{\"field\":\"zvalues\",\"transform\":{\"id\":\"3394\",\"type\":\"LinearColorMapper\"}},\"height\":{\"units\":\"data\",\"value\":1},\"line_alpha\":{\"value\":0},\"line_color\":{\"value\":\"#1f77b4\"},\"width\":{\"units\":\"data\",\"value\":1},\"x\":{\"field\":\"x\"},\"y\":{\"field\":\"y\"}},\"id\":\"3398\",\"type\":\"Rect\"},{\"attributes\":{\"children\":[[{\"id\":\"3321\",\"subtype\":\"Figure\",\"type\":\"Plot\"},0,0],[{\"id\":\"3366\",\"subtype\":\"Figure\",\"type\":\"Plot\"},0,1]]},\"id\":\"3429\",\"type\":\"GridBox\"},{\"attributes\":{},\"id\":\"3340\",\"type\":\"WheelZoomTool\"},{\"attributes\":{},\"id\":\"3383\",\"type\":\"SaveTool\"},{\"attributes\":{\"axis_label\":\"x\",\"bounds\":\"auto\",\"formatter\":{\"id\":\"3360\",\"type\":\"CategoricalTickFormatter\"},\"major_label_orientation\":\"horizontal\",\"ticker\":{\"id\":\"3331\",\"type\":\"CategoricalTicker\"}},\"id\":\"3330\",\"type\":\"CategoricalAxis\"},{\"attributes\":{\"overlay\":{\"id\":\"3417\",\"type\":\"BoxAnnotation\"}},\"id\":\"3341\",\"type\":\"BoxZoomTool\"},{\"attributes\":{\"tools\":[{\"id\":\"3338\",\"type\":\"SaveTool\"},{\"id\":\"3339\",\"type\":\"PanTool\"},{\"id\":\"3340\",\"type\":\"WheelZoomTool\"},{\"id\":\"3341\",\"type\":\"BoxZoomTool\"},{\"id\":\"3342\",\"type\":\"ResetTool\"},{\"id\":\"3383\",\"type\":\"SaveTool\"},{\"id\":\"3384\",\"type\":\"PanTool\"},{\"id\":\"3385\",\"type\":\"WheelZoomTool\"},{\"id\":\"3386\",\"type\":\"BoxZoomTool\"},{\"id\":\"3387\",\"type\":\"ResetTool\"}]},\"id\":\"3430\",\"type\":\"ProxyToolbar\"},{\"attributes\":{},\"id\":\"3385\",\"type\":\"WheelZoomTool\"},{\"attributes\":{\"data_source\":{\"id\":\"3350\",\"type\":\"ColumnDataSource\"},\"glyph\":{\"id\":\"3353\",\"type\":\"Rect\"},\"hover_glyph\":null,\"muted_glyph\":null,\"nonselection_glyph\":{\"id\":\"3354\",\"type\":\"Rect\"},\"selection_glyph\":null,\"view\":{\"id\":\"3356\",\"type\":\"CDSView\"}},\"id\":\"3355\",\"type\":\"GlyphRenderer\"},{\"attributes\":{\"axis_label\":\"x\",\"bounds\":\"auto\",\"formatter\":{\"id\":\"3405\",\"type\":\"CategoricalTickFormatter\"},\"major_label_orientation\":\"horizontal\",\"ticker\":{\"id\":\"3376\",\"type\":\"CategoricalTicker\"}},\"id\":\"3375\",\"type\":\"CategoricalAxis\"},{\"attributes\":{\"dimension\":1,\"grid_line_color\":null,\"ticker\":{\"id\":\"3380\",\"type\":\"CategoricalTicker\"}},\"id\":\"3382\",\"type\":\"Grid\"},{\"attributes\":{\"source\":{\"id\":\"3350\",\"type\":\"ColumnDataSource\"}},\"id\":\"3356\",\"type\":\"CDSView\"},{\"attributes\":{\"source\":{\"id\":\"3395\",\"type\":\"ColumnDataSource\"}},\"id\":\"3401\",\"type\":\"CDSView\"},{\"attributes\":{\"active_drag\":\"auto\",\"active_inspect\":\"auto\",\"active_multi\":null,\"active_scroll\":\"auto\",\"active_tap\":\"auto\",\"tools\":[{\"id\":\"3383\",\"type\":\"SaveTool\"},{\"id\":\"3384\",\"type\":\"PanTool\"},{\"id\":\"3385\",\"type\":\"WheelZoomTool\"},{\"id\":\"3386\",\"type\":\"BoxZoomTool\"},{\"id\":\"3387\",\"type\":\"ResetTool\"}]},\"id\":\"3388\",\"type\":\"Toolbar\"},{\"attributes\":{},\"id\":\"3426\",\"type\":\"UnionRenderers\"},{\"attributes\":{},\"id\":\"3373\",\"type\":\"CategoricalScale\"},{\"attributes\":{},\"id\":\"3342\",\"type\":\"ResetTool\"},{\"attributes\":{\"grid_line_color\":null,\"ticker\":{\"id\":\"3376\",\"type\":\"CategoricalTicker\"}},\"id\":\"3378\",\"type\":\"Grid\"},{\"attributes\":{},\"id\":\"3371\",\"type\":\"CategoricalScale\"},{\"attributes\":{},\"id\":\"3331\",\"type\":\"CategoricalTicker\"},{\"attributes\":{},\"id\":\"3407\",\"type\":\"CategoricalTickFormatter\"},{\"attributes\":{},\"id\":\"3414\",\"type\":\"BasicTickFormatter\"},{\"attributes\":{\"text\":\"GPU Heatmap (algo1)\",\"text_color\":{\"value\":\"black\"},\"text_font_size\":{\"value\":\"12pt\"}},\"id\":\"3322\",\"type\":\"Title\"},{\"attributes\":{\"axis_label\":\"y\",\"bounds\":\"auto\",\"formatter\":{\"id\":\"3407\",\"type\":\"CategoricalTickFormatter\"},\"major_label_orientation\":\"horizontal\",\"ticker\":{\"id\":\"3380\",\"type\":\"CategoricalTicker\"}},\"id\":\"3379\",\"type\":\"CategoricalAxis\"},{\"attributes\":{},\"id\":\"3351\",\"type\":\"Selection\"},{\"attributes\":{},\"id\":\"3376\",\"type\":\"CategoricalTicker\"},{\"attributes\":{\"callback\":null,\"factors\":[\"0\",\"1\"],\"tags\":[[[\"y\",\"y\",null]]]},\"id\":\"3320\",\"type\":\"FactorRange\"},{\"attributes\":{},\"id\":\"3335\",\"type\":\"CategoricalTicker\"},{\"attributes\":{\"high\":99.85714285714286,\"low\":0.0,\"nan_color\":\"white\",\"palette\":[\"#3a4cc0\",\"#3b4dc1\",\"#3c4fc3\",\"#3e51c4\",\"#3f53c6\",\"#4054c7\",\"#4156c9\",\"#4258ca\",\"#435acc\",\"#455bcd\",\"#465dcf\",\"#475fd0\",\"#4860d1\",\"#4962d3\",\"#4b64d4\",\"#4c66d6\",\"#4d67d7\",\"#4e69d8\",\"#506bda\",\"#516cdb\",\"#526edc\",\"#5370dd\",\"#5571de\",\"#5673e0\",\"#5775e1\",\"#5876e2\",\"#5a78e3\",\"#5b79e4\",\"#5c7be5\",\"#5d7de6\",\"#5f7ee7\",\"#6080e8\",\"#6182ea\",\"#6383ea\",\"#6485eb\",\"#6586ec\",\"#6788ed\",\"#6889ee\",\"#698bef\",\"#6b8df0\",\"#6c8ef1\",\"#6d90f1\",\"#6f91f2\",\"#7093f3\",\"#7194f4\",\"#7395f4\",\"#7497f5\",\"#7598f6\",\"#779af6\",\"#789bf7\",\"#7a9df8\",\"#7b9ef8\",\"#7ca0f9\",\"#7ea1f9\",\"#7fa2fa\",\"#80a4fa\",\"#82a5fb\",\"#83a6fb\",\"#85a8fb\",\"#86a9fc\",\"#87aafc\",\"#89acfc\",\"#8aadfd\",\"#8baefd\",\"#8daffd\",\"#8eb1fd\",\"#90b2fe\",\"#91b3fe\",\"#92b4fe\",\"#94b5fe\",\"#95b7fe\",\"#97b8fe\",\"#98b9fe\",\"#99bafe\",\"#9bbbfe\",\"#9cbcfe\",\"#9dbdfe\",\"#9fbefe\",\"#a0bffe\",\"#a2c0fe\",\"#a3c1fe\",\"#a4c2fe\",\"#a6c3fd\",\"#a7c4fd\",\"#a8c5fd\",\"#aac6fd\",\"#abc7fc\",\"#acc8fc\",\"#aec9fc\",\"#afcafb\",\"#b0cbfb\",\"#b2cbfb\",\"#b3ccfa\",\"#b4cdfa\",\"#b6cef9\",\"#b7cff9\",\"#b8cff8\",\"#b9d0f8\",\"#bbd1f7\",\"#bcd1f6\",\"#bdd2f6\",\"#bed3f5\",\"#c0d3f5\",\"#c1d4f4\",\"#c2d4f3\",\"#c3d5f2\",\"#c5d5f2\",\"#c6d6f1\",\"#c7d6f0\",\"#c8d7ef\",\"#c9d7ee\",\"#cad8ee\",\"#ccd8ed\",\"#cdd9ec\",\"#ced9eb\",\"#cfd9ea\",\"#d0dae9\",\"#d1dae8\",\"#d2dae7\",\"#d3dbe6\",\"#d5dbe5\",\"#d6dbe4\",\"#d7dbe2\",\"#d8dbe1\",\"#d9dce0\",\"#dadcdf\",\"#dbdcde\",\"#dcdcdd\",\"#dddcdb\",\"#dedbda\",\"#dfdbd9\",\"#e0dad7\",\"#e1dad6\",\"#e2d9d4\",\"#e3d9d3\",\"#e4d8d1\",\"#e5d8d0\",\"#e6d7cf\",\"#e7d6cd\",\"#e7d6cc\",\"#e8d5ca\",\"#e9d4c9\",\"#ead3c7\",\"#ebd3c6\",\"#ecd2c4\",\"#ecd1c3\",\"#edd0c1\",\"#edcfc0\",\"#eecfbe\",\"#efcebc\",\"#efcdbb\",\"#f0ccb9\",\"#f1cbb8\",\"#f1cab6\",\"#f2c9b5\",\"#f2c8b3\",\"#f2c7b2\",\"#f3c6b0\",\"#f3c5af\",\"#f4c4ad\",\"#f4c3ab\",\"#f4c2aa\",\"#f5c1a8\",\"#f5c0a7\",\"#f5bfa5\",\"#f6bda4\",\"#f6bca2\",\"#f6bba0\",\"#f6ba9f\",\"#f6b99d\",\"#f6b79c\",\"#f6b69a\",\"#f7b598\",\"#f7b397\",\"#f7b295\",\"#f7b194\",\"#f7b092\",\"#f7ae91\",\"#f7ad8f\",\"#f6ab8d\",\"#f6aa8c\",\"#f6a98a\",\"#f6a789\",\"#f6a687\",\"#f6a486\",\"#f6a384\",\"#f5a182\",\"#f5a081\",\"#f59e7f\",\"#f49d7e\",\"#f49b7c\",\"#f49a7b\",\"#f39879\",\"#f39678\",\"#f39576\",\"#f29375\",\"#f29173\",\"#f19072\",\"#f18e70\",\"#f08d6f\",\"#f08b6d\",\"#ef896c\",\"#ee876a\",\"#ee8669\",\"#ed8467\",\"#ec8266\",\"#ec8064\",\"#eb7f63\",\"#ea7d61\",\"#ea7b60\",\"#e9795e\",\"#e8775d\",\"#e7755c\",\"#e6745a\",\"#e67259\",\"#e57057\",\"#e46e56\",\"#e36c54\",\"#e26a53\",\"#e16852\",\"#e06650\",\"#df644f\",\"#de624e\",\"#dd604c\",\"#dc5e4b\",\"#db5c4a\",\"#da5a48\",\"#d95847\",\"#d85646\",\"#d75444\",\"#d65243\",\"#d44f42\",\"#d34d40\",\"#d24b3f\",\"#d1493e\",\"#cf463d\",\"#ce443c\",\"#cd423a\",\"#cc3f39\",\"#ca3d38\",\"#c93b37\",\"#c83835\",\"#c63534\",\"#c53233\",\"#c43032\",\"#c22d31\",\"#c12a30\",\"#bf282e\",\"#be232d\",\"#bc1f2c\",\"#bb1a2b\",\"#b9162a\",\"#b81129\",\"#b60d28\",\"#b50827\",\"#b30326\"]},\"id\":\"3394\",\"type\":\"LinearColorMapper\"},{\"attributes\":{},\"id\":\"3362\",\"type\":\"CategoricalTickFormatter\"},{\"attributes\":{},\"id\":\"3396\",\"type\":\"Selection\"},{\"attributes\":{\"below\":[{\"id\":\"3375\",\"type\":\"CategoricalAxis\"}],\"center\":[{\"id\":\"3378\",\"type\":\"Grid\"},{\"id\":\"3382\",\"type\":\"Grid\"}],\"left\":[{\"id\":\"3379\",\"type\":\"CategoricalAxis\"}],\"margin\":null,\"min_border_bottom\":10,\"min_border_left\":10,\"min_border_right\":10,\"min_border_top\":10,\"plot_height\":300,\"plot_width\":400,\"renderers\":[{\"id\":\"3400\",\"type\":\"GlyphRenderer\"}],\"right\":[{\"id\":\"3403\",\"type\":\"ColorBar\"}],\"sizing_mode\":\"fixed\",\"title\":{\"id\":\"3367\",\"type\":\"Title\"},\"toolbar\":{\"id\":\"3388\",\"type\":\"Toolbar\"},\"toolbar_location\":null,\"x_range\":{\"id\":\"3364\",\"type\":\"FactorRange\"},\"x_scale\":{\"id\":\"3371\",\"type\":\"CategoricalScale\"},\"y_range\":{\"id\":\"3365\",\"type\":\"FactorRange\"},\"y_scale\":{\"id\":\"3373\",\"type\":\"CategoricalScale\"}},\"id\":\"3366\",\"subtype\":\"Figure\",\"type\":\"Plot\"},{\"attributes\":{},\"id\":\"3328\",\"type\":\"CategoricalScale\"},{\"attributes\":{\"bottom_units\":\"screen\",\"fill_alpha\":{\"value\":0.5},\"fill_color\":{\"value\":\"lightgrey\"},\"left_units\":\"screen\",\"level\":\"overlay\",\"line_alpha\":{\"value\":1.0},\"line_color\":{\"value\":\"black\"},\"line_dash\":[4,4],\"line_width\":{\"value\":2},\"render_mode\":\"css\",\"right_units\":\"screen\",\"top_units\":\"screen\"},\"id\":\"3427\",\"type\":\"BoxAnnotation\"},{\"attributes\":{},\"id\":\"3360\",\"type\":\"CategoricalTickFormatter\"},{\"attributes\":{\"dimension\":1,\"grid_line_color\":null,\"ticker\":{\"id\":\"3335\",\"type\":\"CategoricalTicker\"}},\"id\":\"3337\",\"type\":\"Grid\"},{\"attributes\":{},\"id\":\"3338\",\"type\":\"SaveTool\"},{\"attributes\":{\"bar_line_color\":{\"value\":\"black\"},\"color_mapper\":{\"id\":\"3394\",\"type\":\"LinearColorMapper\"},\"formatter\":{\"id\":\"3424\",\"type\":\"BasicTickFormatter\"},\"label_standoff\":8,\"location\":[0,0],\"major_tick_line_color\":{\"value\":\"black\"},\"ticker\":{\"id\":\"3402\",\"type\":\"BasicTicker\"}},\"id\":\"3403\",\"type\":\"ColorBar\"},{\"attributes\":{\"callback\":null,\"factors\":[\"0\",\"1\",\"2\",\"3\"],\"tags\":[[[\"x\",\"x\",null]]]},\"id\":\"3364\",\"type\":\"FactorRange\"},{\"attributes\":{\"high\":99.85714285714286,\"low\":0.0,\"nan_color\":\"white\",\"palette\":[\"#3a4cc0\",\"#3b4dc1\",\"#3c4fc3\",\"#3e51c4\",\"#3f53c6\",\"#4054c7\",\"#4156c9\",\"#4258ca\",\"#435acc\",\"#455bcd\",\"#465dcf\",\"#475fd0\",\"#4860d1\",\"#4962d3\",\"#4b64d4\",\"#4c66d6\",\"#4d67d7\",\"#4e69d8\",\"#506bda\",\"#516cdb\",\"#526edc\",\"#5370dd\",\"#5571de\",\"#5673e0\",\"#5775e1\",\"#5876e2\",\"#5a78e3\",\"#5b79e4\",\"#5c7be5\",\"#5d7de6\",\"#5f7ee7\",\"#6080e8\",\"#6182ea\",\"#6383ea\",\"#6485eb\",\"#6586ec\",\"#6788ed\",\"#6889ee\",\"#698bef\",\"#6b8df0\",\"#6c8ef1\",\"#6d90f1\",\"#6f91f2\",\"#7093f3\",\"#7194f4\",\"#7395f4\",\"#7497f5\",\"#7598f6\",\"#779af6\",\"#789bf7\",\"#7a9df8\",\"#7b9ef8\",\"#7ca0f9\",\"#7ea1f9\",\"#7fa2fa\",\"#80a4fa\",\"#82a5fb\",\"#83a6fb\",\"#85a8fb\",\"#86a9fc\",\"#87aafc\",\"#89acfc\",\"#8aadfd\",\"#8baefd\",\"#8daffd\",\"#8eb1fd\",\"#90b2fe\",\"#91b3fe\",\"#92b4fe\",\"#94b5fe\",\"#95b7fe\",\"#97b8fe\",\"#98b9fe\",\"#99bafe\",\"#9bbbfe\",\"#9cbcfe\",\"#9dbdfe\",\"#9fbefe\",\"#a0bffe\",\"#a2c0fe\",\"#a3c1fe\",\"#a4c2fe\",\"#a6c3fd\",\"#a7c4fd\",\"#a8c5fd\",\"#aac6fd\",\"#abc7fc\",\"#acc8fc\",\"#aec9fc\",\"#afcafb\",\"#b0cbfb\",\"#b2cbfb\",\"#b3ccfa\",\"#b4cdfa\",\"#b6cef9\",\"#b7cff9\",\"#b8cff8\",\"#b9d0f8\",\"#bbd1f7\",\"#bcd1f6\",\"#bdd2f6\",\"#bed3f5\",\"#c0d3f5\",\"#c1d4f4\",\"#c2d4f3\",\"#c3d5f2\",\"#c5d5f2\",\"#c6d6f1\",\"#c7d6f0\",\"#c8d7ef\",\"#c9d7ee\",\"#cad8ee\",\"#ccd8ed\",\"#cdd9ec\",\"#ced9eb\",\"#cfd9ea\",\"#d0dae9\",\"#d1dae8\",\"#d2dae7\",\"#d3dbe6\",\"#d5dbe5\",\"#d6dbe4\",\"#d7dbe2\",\"#d8dbe1\",\"#d9dce0\",\"#dadcdf\",\"#dbdcde\",\"#dcdcdd\",\"#dddcdb\",\"#dedbda\",\"#dfdbd9\",\"#e0dad7\",\"#e1dad6\",\"#e2d9d4\",\"#e3d9d3\",\"#e4d8d1\",\"#e5d8d0\",\"#e6d7cf\",\"#e7d6cd\",\"#e7d6cc\",\"#e8d5ca\",\"#e9d4c9\",\"#ead3c7\",\"#ebd3c6\",\"#ecd2c4\",\"#ecd1c3\",\"#edd0c1\",\"#edcfc0\",\"#eecfbe\",\"#efcebc\",\"#efcdbb\",\"#f0ccb9\",\"#f1cbb8\",\"#f1cab6\",\"#f2c9b5\",\"#f2c8b3\",\"#f2c7b2\",\"#f3c6b0\",\"#f3c5af\",\"#f4c4ad\",\"#f4c3ab\",\"#f4c2aa\",\"#f5c1a8\",\"#f5c0a7\",\"#f5bfa5\",\"#f6bda4\",\"#f6bca2\",\"#f6bba0\",\"#f6ba9f\",\"#f6b99d\",\"#f6b79c\",\"#f6b69a\",\"#f7b598\",\"#f7b397\",\"#f7b295\",\"#f7b194\",\"#f7b092\",\"#f7ae91\",\"#f7ad8f\",\"#f6ab8d\",\"#f6aa8c\",\"#f6a98a\",\"#f6a789\",\"#f6a687\",\"#f6a486\",\"#f6a384\",\"#f5a182\",\"#f5a081\",\"#f59e7f\",\"#f49d7e\",\"#f49b7c\",\"#f49a7b\",\"#f39879\",\"#f39678\",\"#f39576\",\"#f29375\",\"#f29173\",\"#f19072\",\"#f18e70\",\"#f08d6f\",\"#f08b6d\",\"#ef896c\",\"#ee876a\",\"#ee8669\",\"#ed8467\",\"#ec8266\",\"#ec8064\",\"#eb7f63\",\"#ea7d61\",\"#ea7b60\",\"#e9795e\",\"#e8775d\",\"#e7755c\",\"#e6745a\",\"#e67259\",\"#e57057\",\"#e46e56\",\"#e36c54\",\"#e26a53\",\"#e16852\",\"#e06650\",\"#df644f\",\"#de624e\",\"#dd604c\",\"#dc5e4b\",\"#db5c4a\",\"#da5a48\",\"#d95847\",\"#d85646\",\"#d75444\",\"#d65243\",\"#d44f42\",\"#d34d40\",\"#d24b3f\",\"#d1493e\",\"#cf463d\",\"#ce443c\",\"#cd423a\",\"#cc3f39\",\"#ca3d38\",\"#c93b37\",\"#c83835\",\"#c63534\",\"#c53233\",\"#c43032\",\"#c22d31\",\"#c12a30\",\"#bf282e\",\"#be232d\",\"#bc1f2c\",\"#bb1a2b\",\"#b9162a\",\"#b81129\",\"#b60d28\",\"#b50827\",\"#b30326\"]},\"id\":\"3349\",\"type\":\"LinearColorMapper\"},{\"attributes\":{\"callback\":null,\"data\":{\"x\":[\"0\",\"0\",\"1\",\"1\",\"2\",\"2\",\"3\",\"3\"],\"y\":[\"0\",\"1\",\"0\",\"1\",\"0\",\"1\",\"0\",\"1\"],\"zvalues\":{\"__ndarray__\":\"VVVVVVX1WEBVVVVVVfVYQKuqqqqq6lhAq6qqqqrqWECrqqqqqupYQFVVVVVV9VhAVVVVVVX1WEAAAAAAAAAAAA==\",\"dtype\":\"float64\",\"shape\":[8]}},\"selected\":{\"id\":\"3351\",\"type\":\"Selection\"},\"selection_policy\":{\"id\":\"3416\",\"type\":\"UnionRenderers\"}},\"id\":\"3350\",\"type\":\"ColumnDataSource\"},{\"attributes\":{},\"id\":\"3402\",\"type\":\"BasicTicker\"},{\"attributes\":{},\"id\":\"3424\",\"type\":\"BasicTickFormatter\"},{\"attributes\":{\"axis_label\":\"y\",\"bounds\":\"auto\",\"formatter\":{\"id\":\"3362\",\"type\":\"CategoricalTickFormatter\"},\"major_label_orientation\":\"horizontal\",\"ticker\":{\"id\":\"3335\",\"type\":\"CategoricalTicker\"}},\"id\":\"3334\",\"type\":\"CategoricalAxis\"},{\"attributes\":{},\"id\":\"3387\",\"type\":\"ResetTool\"}],\"root_ids\":[\"3432\"]},\"title\":\"Bokeh Application\",\"version\":\"1.2.0\"}};\n",
       "  var render_items = [{\"docid\":\"784b847e-b2e8-40c6-ae39-644fa73e6adc\",\"roots\":{\"3432\":\"fed60d44-6ab0-4889-b5fe-3337137efb80\"}}];\n",
       "  root.Bokeh.embed.embed_items_notebook(docs_json, render_items);\n",
       "\n",
       "  }\n",
       "  if (root.Bokeh !== undefined) {\n",
       "    embed_document(root);\n",
       "  } else {\n",
       "    var attempts = 0;\n",
       "    var timer = setInterval(function(root) {\n",
       "      if (root.Bokeh !== undefined) {\n",
       "        embed_document(root);\n",
       "        clearInterval(timer);\n",
       "      }\n",
       "      attempts++;\n",
       "      if (attempts > 100) {\n",
       "        console.log(\"Bokeh: ERROR: Unable to run BokehJS code because BokehJS library is missing\");\n",
       "        clearInterval(timer);\n",
       "      }\n",
       "    }, 10, root)\n",
       "  }\n",
       "})(window);\n",
       "\n",
       "    function msg_handler(msg) {\n",
       "      var metadata = msg.metadata;\n",
       "      var buffers = msg.buffers;\n",
       "      var msg = msg.content.data;\n",
       "      if ((metadata.msg_type == \"Ready\")) {\n",
       "        if (metadata.content) {\n",
       "          console.log(\"Python callback returned following output:\", metadata.content);\n",
       "        }\n",
       "      } else if (metadata.msg_type == \"Error\") {\n",
       "        console.log(\"Python failed with the following traceback:\", metadata.traceback)\n",
       "      } else {\n",
       "        \n",
       "var plot_id = \"3432\";\n",
       "if (plot_id in window.PyViz.plot_index) {\n",
       "  var plot = window.PyViz.plot_index[plot_id];\n",
       "} else {\n",
       "  var plot = Bokeh.index[plot_id];\n",
       "}\n",
       "\n",
       "if (plot_id in window.PyViz.receivers) {\n",
       "  var receiver = window.PyViz.receivers[plot_id];\n",
       "} else if (Bokeh.protocol === undefined) {\n",
       "  return;\n",
       "} else {\n",
       "  var receiver = new Bokeh.protocol.Receiver();\n",
       "  window.PyViz.receivers[plot_id] = receiver;\n",
       "}\n",
       "\n",
       "if ((buffers != undefined) && (buffers.length > 0)) {\n",
       "  receiver.consume(buffers[0].buffer)\n",
       "} else {\n",
       "  receiver.consume(msg)\n",
       "}\n",
       "\n",
       "const comm_msg = receiver.message;\n",
       "if ((comm_msg != null) && (Object.keys(comm_msg.content).length > 0)) {\n",
       "  plot.model.document.apply_json_patch(comm_msg.content, comm_msg.buffers)\n",
       "}\n",
       "\n",
       "      }\n",
       "    }\n",
       "    if ((window.PyViz == undefined) || (!window.PyViz.comm_manager)) {\n",
       "      console.log(\"Could not find comm manager\")\n",
       "    } else {\n",
       "      window.PyViz.comm_manager.register_target('3432', '1298f3209d46453d9ad7b03c9f29e801', msg_handler);\n",
       "    }\n",
       "    </script>"
      ],
      "text/plain": [
       ":DynamicMap   []\n",
       "   :Layout\n",
       "      .HeatMap.I  :HeatMap   [x,y]   (z)\n",
       "      .HeatMap.II :HeatMap   [x,y]   (z)"
      ]
     },
     "execution_count": 7,
     "metadata": {
      "application/vnd.holoviews_exec.v0+json": {
       "id": "3432"
      }
     },
     "output_type": "execute_result"
    }
   ],
   "source": [
    "gpu_heatmap, gpu_heatmap_stopper = trainingboard.graph('gpu-heatmap')\n",
    "gpu_heatmap"
   ]
  },
  {
   "cell_type": "code",
   "execution_count": 8,
   "metadata": {},
   "outputs": [],
   "source": [
    "gpu_heatmap_stopper.stop()"
   ]
  },
  {
   "cell_type": "code",
   "execution_count": null,
   "metadata": {},
   "outputs": [],
   "source": []
  }
 ],
 "metadata": {
  "kernelspec": {
   "display_name": "conda_tensorflow_p36",
   "language": "python",
   "name": "conda_tensorflow_p36"
  },
  "language_info": {
   "codemirror_mode": {
    "name": "ipython",
    "version": 3
   },
   "file_extension": ".py",
   "mimetype": "text/x-python",
   "name": "python",
   "nbconvert_exporter": "python",
   "pygments_lexer": "ipython3",
   "version": "3.6.5"
  }
 },
 "nbformat": 4,
 "nbformat_minor": 2
}
